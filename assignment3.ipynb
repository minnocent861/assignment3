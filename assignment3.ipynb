{
 "cells": [
  {
   "cell_type": "code",
   "execution_count": 6,
   "id": "2d4ab4a0-4c5c-4ca0-9da4-38682d152e6d",
   "metadata": {},
   "outputs": [
    {
     "name": "stdout",
     "output_type": "stream",
     "text": [
      "After capitalizing the person element ['mozzarella', 'Cinderella', 'salmonella']\n"
     ]
    }
   ],
   "source": [
    "#7.4 Make a list called things with these three strings as elements: \"mozzarella\", \"cinderella\", \"salmonella\".\n",
    "things=[\"mozzarella\", \"cinderella\", \"salmonella\"]\n",
    "#7.5 Capitalize the element in things that refers to a person and then print the list. Did it change the element in the list?\n",
    "things[1] = things[1].capitalize()\n",
    "print(\"After capitalizing the person element\",things)"
   ]
  },
  {
   "cell_type": "code",
   "execution_count": 7,
   "id": "94e788f7-6b25-43ce-969d-f29c6aa1d591",
   "metadata": {},
   "outputs": [
    {
     "name": "stdout",
     "output_type": "stream",
     "text": [
      "After making the cheesy element all uppercase ['MOZZARELLA', 'Cinderella', 'salmonella']\n"
     ]
    }
   ],
   "source": [
    "#7.6 Make the cheesy element of things all uppercase and then print the list.\n",
    "things[0] = things[0].upper()\n",
    "print(\"After making the cheesy element all uppercase\",things)"
   ]
  },
  {
   "cell_type": "code",
   "execution_count": 10,
   "id": "8007b952-1f12-4f0e-baaa-f9907f7b8bd1",
   "metadata": {},
   "outputs": [
    {
     "name": "stdout",
     "output_type": "stream",
     "text": [
      "After deleting the disease element ['MOZZARELLA', 'Cinderella']\n"
     ]
    }
   ],
   "source": [
    "#7.7 Delete the disease element from things, collect your Nobel Prize, and print the list.\n",
    "things.remove(\"salmonella\")\n",
    "print(\"After deleting the disease element\",things)"
   ]
  },
  {
   "cell_type": "code",
   "execution_count": 11,
   "id": "1cff8318-794e-44b4-a5e2-4fe5bc923da5",
   "metadata": {},
   "outputs": [
    {
     "name": "stdout",
     "output_type": "stream",
     "text": [
      "['Harry', 'Ron', 'Hermione']\n"
     ]
    }
   ],
   "source": [
    "#9.1 Define a function called good() that returns the following list: ['Harry', 'Ron', 'Hermione'].\n",
    "def good():\n",
    "    return ['Harry', 'Ron', 'Hermione']\n",
    "\n",
    "\n",
    "print(good())\n"
   ]
  },
  {
   "cell_type": "code",
   "execution_count": 12,
   "id": "c9a20447-2a7e-4a21-85f6-b7a8d5e86636",
   "metadata": {},
   "outputs": [
    {
     "name": "stdout",
     "output_type": "stream",
     "text": [
      "5\n"
     ]
    }
   ],
   "source": [
    "\n",
    "#9.2 Define a generator function called get_odds() that returns the odd numbers from range(10). Use a for loop to find and print the third value returned.\n",
    "def get_odds():\n",
    "    for num in range(10):\n",
    "        if num % 2 != 0:\n",
    "            yield num\n",
    "\n",
    "\n",
    "count = 0\n",
    "for odd in get_odds():\n",
    "    count += 1\n",
    "    if count == 3:\n",
    "        print(odd)\n",
    "        break"
   ]
  },
  {
   "cell_type": "code",
   "execution_count": null,
   "id": "85b627a3-217a-4c6f-9ad1-7e3c8c3e1c5c",
   "metadata": {},
   "outputs": [],
   "source": []
  }
 ],
 "metadata": {
  "kernelspec": {
   "display_name": "Python 3 (ipykernel)",
   "language": "python",
   "name": "python3"
  },
  "language_info": {
   "codemirror_mode": {
    "name": "ipython",
    "version": 3
   },
   "file_extension": ".py",
   "mimetype": "text/x-python",
   "name": "python",
   "nbconvert_exporter": "python",
   "pygments_lexer": "ipython3",
   "version": "3.12.7"
  }
 },
 "nbformat": 4,
 "nbformat_minor": 5
}
